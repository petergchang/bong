{
 "cells": [
  {
   "cell_type": "code",
   "execution_count": 6,
   "metadata": {},
   "outputs": [
    {
     "name": "stdout",
     "output_type": "stream",
     "text": [
      "The autoreload extension is already loaded. To reload it, use:\n",
      "  %reload_ext autoreload\n"
     ]
    }
   ],
   "source": [
    "%load_ext autoreload\n",
    "%autoreload 2\n",
    "\n",
    "%config InlineBackend.figure_format = \"retina\""
   ]
  },
  {
   "cell_type": "code",
   "execution_count": 7,
   "metadata": {},
   "outputs": [
    {
     "data": {
      "text/plain": [
       "'/Users/kpmurphy/github/bong/bong/experiments'"
      ]
     },
     "execution_count": 7,
     "metadata": {},
     "output_type": "execute_result"
    }
   ],
   "source": [
    "%pwd"
   ]
  },
  {
   "cell_type": "code",
   "execution_count": 14,
   "metadata": {},
   "outputs": [
    {
     "name": "stdout",
     "output_type": "stream",
     "text": [
      "['fg-bong', 'fg-l-bong', 'fg-rep-bong', 'fg-rep-l-bong', 'fg-blr', 'fg-bog', 'fg-rep-bog', 'fg-bbb', 'fg-rep-bbb']\n",
      "<function generate_linreg_dataset at 0x105c9ddc0>\n"
     ]
    }
   ],
   "source": [
    "from s01_linreg import *\n",
    "\n",
    "print(AGENT_TYPES)\n",
    "print(generate_linreg_dataset)\n"
   ]
  },
  {
   "cell_type": "code",
   "execution_count": 13,
   "metadata": {},
   "outputs": [
    {
     "name": "stdout",
     "output_type": "stream",
     "text": [
      "ArgumentParser(prog='ipykernel_launcher.py', usage=None, description=None, formatter_class=<class 'argparse.HelpFormatter'>, conflict_handler='error', add_help=True)\n"
     ]
    },
    {
     "name": "stderr",
     "output_type": "stream",
     "text": [
      "usage: ipykernel_launcher.py [-h] [--num_examples NUM_EXAMPLES]\n",
      "                             [--param_dim PARAM_DIM] [--key KEY]\n",
      "                             [--emission_noise EMISSION_NOISE]\n",
      "                             [--agents {fg-bong,fg-l-bong,fg-rep-bong,fg-rep-l-bong,fg-blr,fg-bog,fg-rep-bog,fg-bbb,fg-rep-bbb} [{fg-bong,fg-l-bong,fg-rep-bong,fg-rep-l-bong,fg-blr,fg-bog,fg-rep-bog,fg-bbb,fg-rep-bbb} ...]]\n",
      "                             [--num_samples NUM_SAMPLES [NUM_SAMPLES ...]]\n",
      "ipykernel_launcher.py: error: unrecognized arguments: --f=/Users/kpmurphy/Library/Jupyter/runtime/kernel-v2-69726B5ARDgDj8QRI.json\n"
     ]
    },
    {
     "ename": "SystemExit",
     "evalue": "2",
     "output_type": "error",
     "traceback": [
      "An exception has occurred, use %tb to see the full traceback.\n",
      "\u001b[0;31mSystemExit\u001b[0m\u001b[0;31m:\u001b[0m 2\n"
     ]
    },
    {
     "name": "stderr",
     "output_type": "stream",
     "text": [
      "/Users/kpmurphy/github/bong/.venv/lib/python3.9/site-packages/IPython/core/interactiveshell.py:3558: UserWarning: To exit: use 'exit', 'quit', or Ctrl-D.\n",
      "  warn(\"To exit: use 'exit', 'quit', or Ctrl-D.\", stacklevel=1)\n"
     ]
    }
   ],
   "source": [
    "#python experiments/s01_linreg.py --agents fg-bong fg-l-bong --num_samples 10 100\n",
    "\n",
    "parser = argparse.ArgumentParser()\n",
    "    \n",
    "  # Data parameters\n",
    "parser.add_argument(\"--num_examples\", type=int, default=500)\n",
    "parser.add_argument(\"--param_dim\", type=int, default=10)\n",
    "parser.add_argument(\"--key\", type=int, default=0)\n",
    "parser.add_argument(\"--emission_noise\", type=float, default=1.0)\n",
    "\n",
    "# Model parameters\n",
    "parser.add_argument(\"--agents\", type=str, nargs=\"+\",\n",
    "                    default=[\"fg-bong\"], choices=AGENT_TYPES)\n",
    "parser.add_argument(\"--num_samples\", type=int, nargs=\"+\", \n",
    "                    default=[1_000,])\n",
    "\n",
    "print(parser)\n",
    "args = parser.parse_args()\n",
    "print(args)\n",
    "\n",
    "main(args)\n"
   ]
  },
  {
   "cell_type": "code",
   "execution_count": null,
   "metadata": {},
   "outputs": [],
   "source": []
  }
 ],
 "metadata": {
  "kernelspec": {
   "display_name": ".bong_venv",
   "language": "python",
   "name": "python3"
  },
  "language_info": {
   "codemirror_mode": {
    "name": "ipython",
    "version": 3
   },
   "file_extension": ".py",
   "mimetype": "text/x-python",
   "name": "python",
   "nbconvert_exporter": "python",
   "pygments_lexer": "ipython3",
   "version": "3.9.6"
  }
 },
 "nbformat": 4,
 "nbformat_minor": 2
}
