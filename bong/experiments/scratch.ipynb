{
 "cells": [
  {
   "cell_type": "code",
   "execution_count": 1,
   "metadata": {},
   "outputs": [
    {
     "name": "stderr",
     "output_type": "stream",
     "text": [
      "/tmp/ipykernel_3164/945712042.py:6: DeprecationWarning: Importing display from IPython.core.display is deprecated since IPython 7.14, please import from IPython display\n",
      "  from IPython.core.display import display, HTML\n"
     ]
    },
    {
     "data": {
      "text/html": [
       "<style>.container { width:100% !important; }</style>"
      ],
      "text/plain": [
       "<IPython.core.display.HTML object>"
      ]
     },
     "metadata": {},
     "output_type": "display_data"
    }
   ],
   "source": [
    "%load_ext autoreload\n",
    "%autoreload 2\n",
    "\n",
    "%config InlineBackend.figure_format = \"retina\"\n",
    "\n",
    "from IPython.core.display import display, HTML\n",
    "\n",
    "display(HTML(\"<style>.container { width:100% !important; }</style>\"))\n"
   ]
  },
  {
   "cell_type": "code",
   "execution_count": 1,
   "metadata": {},
   "outputs": [
    {
     "name": "stderr",
     "output_type": "stream",
     "text": [
      "Matplotlib created a temporary cache directory at /tmp/matplotlib-jqzopfjb because the default path (/teamspace/studios/this_studio/.config/matplotlib) is not a writable directory; it is highly recommended to set the MPLCONFIGDIR environment variable to a writable directory, in particular to speed up the import of Matplotlib and to better support multiprocessing.\n"
     ]
    }
   ],
   "source": [
    "import pandas as pd\n",
    "import os\n",
    "import argparse\n",
    "from typing import Any, Callable, Sequence\n",
    "from pathlib import Path\n",
    "from PIL import Image\n",
    "import matplotlib.image as mpimg\n",
    "\n",
    "import jax\n",
    "import jax.random as jr\n",
    "import jax.numpy as jnp\n",
    "from jax import grad, jit, vmap\n",
    "from jax.flatten_util import ravel_pytree\n",
    "import numpy as np\n",
    "import matplotlib.pyplot as plt\n",
    "from flax import linen as nn\n",
    "\n",
    "\n",
    "from bong.util import run_rebayes_algorithm, gaussian_kl_div, MLP\n",
    "from bong.src import bbb, blr, bog, bong, experiment_utils\n",
    "from bong.agents import AGENT_NAMES\n",
    "from plot_utils import *\n",
    "\n"
   ]
  },
  {
   "cell_type": "code",
   "execution_count": 17,
   "metadata": {},
   "outputs": [],
   "source": [
    "parser = argparse.ArgumentParser()\n",
    "\n",
    "# Data parameters\n",
    "parser.add_argument(\"--dataset\", type=str, default=\"reg\") \n",
    "parser.add_argument(\"--data_dim\", type=int, default=10)\n",
    "parser.add_argument(\"--data_key\", type=int, default=0)\n",
    "parser.add_argument(\"--dgp_type\", type=str, default=\"lin\") # or mlp\n",
    "parser.add_argument(\"--dgp_neurons\", type=int, nargs=\"+\", default=[20, 20, 1]) \n",
    "parser.add_argument(\"--dgp_neurons_str\", type=str, default=\"\") # 20_20_1 \n",
    "parser.add_argument(\"--emission_noise\", type=float, default=1.0)\n",
    "parser.add_argument(\"--ntrain\", type=int, default=500)\n",
    "parser.add_argument(\"--nval\", type=int, default=500)\n",
    "parser.add_argument(\"--ntest\", type=int, default=1000)\n",
    "parser.add_argument(\"--add_ones\", type=bool, default=False)\n",
    "\n",
    "\n",
    "# Model parameters\n",
    "parser.add_argument(\"--agent\", type=str, default=\"bong_fc\", choices=AGENT_NAMES)\n",
    "parser.add_argument(\"--agent_key\", type=int, default=0)\n",
    "parser.add_argument(\"--lr\", type=float, default=0.01)\n",
    "parser.add_argument(\"--niter\", type=int, default=10) \n",
    "parser.add_argument(\"--nsample\", type=int, default=10) \n",
    "parser.add_argument(\"--ef\", type=int, default=0)\n",
    "parser.add_argument(\"--linplugin\", type=int, default=0)\n",
    "parser.add_argument(\"--rank\", type=int, default=10)\n",
    "parser.add_argument(\"--model_type\", type=str, default=\"lin\") # or mlp\n",
    "parser.add_argument(\"--model_neurons\", type=int, nargs=\"+\", default=[1])\n",
    "parser.add_argument(\"--model_neurons_str\", type=str, default=\"\") \n",
    "parser.add_argument(\"--init_var\", type=float, default=1.0)\n",
    "parser.add_argument(\"--algo_key\", type=int, default=0)\n",
    "\n",
    "# results\n",
    "parser.add_argument(\"--dir\", type=str, default=\"\", help=\"directory to store results\") \n",
    "parser.add_argument(\"--debug\", type=bool, default=False)\n",
    "\n",
    "\n",
    "args = parser.parse_args([])"
   ]
  },
  {
   "cell_type": "code",
   "execution_count": 18,
   "metadata": {},
   "outputs": [
    {
     "name": "stdout",
     "output_type": "stream",
     "text": [
      "(500, 10)\n",
      "Running bong_fc-MC10-I1-LR0-EF1-Lin0 + mlp_10_1 on reg-D10-lin_1\n",
      "Using GPU of type:  None\n",
      "Time 15.75s\n",
      "Test NLL: 1.5503,  NLPD: 1.5489\n",
      "Val NLL 1.5632,  NLPD: 1.5948\n"
     ]
    }
   ],
   "source": [
    "from datasets import *\n",
    "from models import *\n",
    "from bong.agents import *\n",
    "from run_job import *\n",
    "\n",
    "data = make_dataset(args)\n",
    "print(data['X_tr'].shape)\n",
    "\n",
    "model = make_model(args, data)\n",
    "\n",
    "constructor = AGENT_DICT[args.agent]['constructor']\n",
    "agent = constructor(\n",
    "                    **model['model_kwargs'],\n",
    "                    agent_key = args.agent_key,\n",
    "                    learning_rate = args.lr,\n",
    "                    num_iter = args.niter,\n",
    "                    num_samples = args.nsample,\n",
    "                    linplugin = args.linplugin,\n",
    "                    empirical_fisher = args.ef,\n",
    "                    rank = args.rank\n",
    "                )\n",
    "key = jr.PRNGKey(args.agent_key)\n",
    "results, elapsed = run_agent(key, agent, data, model)\n",
    "df = pd.DataFrame(results)\n",
    "attributes = parse_agent_full_name(agent.name)\n",
    "meta = { # non time-series data\n",
    "    'data_name': data['name'],\n",
    "    'model_name': model['name'],\n",
    "    'agent_name': agent.name,\n",
    "    'algo': attributes['algo'],\n",
    "    'param': attributes['param'],\n",
    "    'elapsed': elapsed\n",
    "    }\n"
   ]
  },
  {
   "cell_type": "code",
   "execution_count": 20,
   "metadata": {},
   "outputs": [],
   "source": [
    "from plot_utils import *\n",
    "\n",
    "root_dir = '/teamspace/studios/this_studio/jobs'\n",
    "data_dir = 'reg-D10-mlp_20_20_1'\n",
    "model_dir = 'mlp_10_10_1'\n",
    "agent_dir = 'A:Any-P:Any-Lin:1-LR:Any-IT:10-MC:10-EF:1-R:10'\n",
    "dir = f'{root_dir}/{data_dir}/{model_dir}/{agent_dir}'\n",
    "\n",
    "\n",
    "\n"
   ]
  },
  {
   "cell_type": "markdown",
   "metadata": {},
   "source": []
  },
  {
   "cell_type": "markdown",
   "metadata": {},
   "source": []
  }
 ],
 "metadata": {
  "kernelspec": {
   "display_name": ".bong_venv",
   "language": "python",
   "name": "python3"
  },
  "language_info": {
   "codemirror_mode": {
    "name": "ipython",
    "version": 3
   },
   "file_extension": ".py",
   "mimetype": "text/x-python",
   "name": "python",
   "nbconvert_exporter": "python",
   "pygments_lexer": "ipython3",
   "version": "3.10.10"
  }
 },
 "nbformat": 4,
 "nbformat_minor": 2
}
