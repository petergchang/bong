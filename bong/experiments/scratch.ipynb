{
 "cells": [
  {
   "cell_type": "code",
   "execution_count": 1,
   "metadata": {},
   "outputs": [
    {
     "name": "stderr",
     "output_type": "stream",
     "text": [
      "/tmp/ipykernel_3164/945712042.py:6: DeprecationWarning: Importing display from IPython.core.display is deprecated since IPython 7.14, please import from IPython display\n",
      "  from IPython.core.display import display, HTML\n"
     ]
    },
    {
     "data": {
      "text/html": [
       "<style>.container { width:100% !important; }</style>"
      ],
      "text/plain": [
       "<IPython.core.display.HTML object>"
      ]
     },
     "metadata": {},
     "output_type": "display_data"
    }
   ],
   "source": [
    "%load_ext autoreload\n",
    "%autoreload 2\n",
    "\n",
    "%config InlineBackend.figure_format = \"retina\"\n",
    "\n",
    "from IPython.core.display import display, HTML\n",
    "\n",
    "display(HTML(\"<style>.container { width:100% !important; }</style>\"))\n"
   ]
  },
  {
   "cell_type": "code",
   "execution_count": 2,
   "metadata": {},
   "outputs": [],
   "source": [
    "import pandas as pd\n",
    "import os\n",
    "import argparse\n",
    "from typing import Any, Callable, Sequence\n",
    "from pathlib import Path\n",
    "from PIL import Image\n",
    "import matplotlib.image as mpimg\n",
    "\n",
    "import jax\n",
    "import jax.random as jr\n",
    "import jax.numpy as jnp\n",
    "from jax import grad, jit, vmap\n",
    "from jax.flatten_util import ravel_pytree\n",
    "import numpy as np\n",
    "import matplotlib.pyplot as plt\n",
    "from flax import linen as nn\n",
    "\n",
    "\n",
    "from bong.util import run_rebayes_algorithm, gaussian_kl_div, MLP\n",
    "from bong.src import bbb, blr, bog, bong, experiment_utils\n",
    "#from bong.agents import AGENT_NAMES\n",
    "\n",
    "\n"
   ]
  },
  {
   "cell_type": "code",
   "execution_count": 4,
   "metadata": {},
   "outputs": [
    {
     "name": "stdout",
     "output_type": "stream",
     "text": [
      "41\n"
     ]
    }
   ],
   "source": [
    "x = (42 if False else 41)\n",
    "print(x)"
   ]
  },
  {
   "cell_type": "code",
   "execution_count": 13,
   "metadata": {},
   "outputs": [
    {
     "data": {
      "text/plain": [
       "[121, 181, 241, 301, 361, 421]"
      ]
     },
     "execution_count": 13,
     "metadata": {},
     "output_type": "execute_result"
    }
   ],
   "source": [
    "[11*n + (n+1)*1 for n in [10,15,20,25,30,35]]"
   ]
  },
  {
   "cell_type": "code",
   "execution_count": null,
   "metadata": {},
   "outputs": [],
   "source": [
    "dir = '/teamspace/studios/this_studio/jobs/timingdlr'\n",
    "df = pd.read_csv(f'{dir}/jobs.csv')\n",
    "print(df.columns)\n",
    "\n",
    "#condition = df.query('agent==\"bbb_fc\" and ef==0 and linplugin==0')\n",
    "condition = (df['agent'] == \"bbb_fc\") & (df['ef'] == 0) & (df['linplugin'] == 0)\n",
    "\n",
    "indices_to_drop = df[condition].index\n",
    "df_filtered = df.drop(indices_to_drop)\n",
    "\n",
    "print(len(df))\n",
    "print(len(df_filtered))\n",
    "\n",
    "dir = '/teamspace/studios/this_studio/jobs/timingfc4'\n",
    "df_filtered.to_csv(f'{dir}/jobs.csv', index=False)"
   ]
  },
  {
   "cell_type": "code",
   "execution_count": 8,
   "metadata": {},
   "outputs": [
    {
     "name": "stdout",
     "output_type": "stream",
     "text": [
      "\n",
      " Creating /teamspace/studios/this_studio/jobs/expt_timing2-13/work\n",
      "sudo cp -r /teamspace/jobs/expt-timing2-13/work/*.* /teamspace/studios/this_studio/jobs/expt_timing2-13/work\n",
      "\n",
      " Creating /teamspace/studios/this_studio/jobs/expt_timing2-10/work\n",
      "sudo cp -r /teamspace/jobs/expt-timing2-10/work/*.* /teamspace/studios/this_studio/jobs/expt_timing2-10/work\n",
      "\n",
      " Creating /teamspace/studios/this_studio/jobs/expt_timing2-02/work\n",
      "sudo cp -r /teamspace/jobs/expt-timing2-02/work/*.* /teamspace/studios/this_studio/jobs/expt_timing2-02/work\n",
      "\n",
      " Creating /teamspace/studios/this_studio/jobs/expt_timing2-00/work\n",
      "sudo cp -r /teamspace/jobs/expt-timing2-00/work/*.* /teamspace/studios/this_studio/jobs/expt_timing2-00/work\n",
      "\n",
      " Creating /teamspace/studios/this_studio/jobs/expt_timing2-15/work\n",
      "sudo cp -r /teamspace/jobs/expt-timing2-15/work/*.* /teamspace/studios/this_studio/jobs/expt_timing2-15/work\n",
      "\n",
      " Creating /teamspace/studios/this_studio/jobs/expt_timing2-41/work\n",
      "sudo cp -r /teamspace/jobs/expt-timing2-41/work/*.* /teamspace/studios/this_studio/jobs/expt_timing2-41/work\n",
      "\n",
      " Creating /teamspace/studios/this_studio/jobs/expt_timing2-18/work\n",
      "sudo cp -r /teamspace/jobs/expt-timing2-18/work/*.* /teamspace/studios/this_studio/jobs/expt_timing2-18/work\n",
      "\n",
      " Creating /teamspace/studios/this_studio/jobs/expt_timing2-44/work\n",
      "sudo cp -r /teamspace/jobs/expt-timing2-44/work/*.* /teamspace/studios/this_studio/jobs/expt_timing2-44/work\n",
      "\n",
      " Creating /teamspace/studios/this_studio/jobs/expt_timing2-27/work\n",
      "sudo cp -r /teamspace/jobs/expt-timing2-27/work/*.* /teamspace/studios/this_studio/jobs/expt_timing2-27/work\n",
      "\n",
      " Creating /teamspace/studios/this_studio/jobs/expt_timing2-17/work\n",
      "sudo cp -r /teamspace/jobs/expt-timing2-17/work/*.* /teamspace/studios/this_studio/jobs/expt_timing2-17/work\n",
      "\n",
      " Creating /teamspace/studios/this_studio/jobs/expt_timing2-08/work\n",
      "sudo cp -r /teamspace/jobs/expt-timing2-08/work/*.* /teamspace/studios/this_studio/jobs/expt_timing2-08/work\n",
      "\n",
      " Creating /teamspace/studios/this_studio/jobs/expt_timing2-31/work\n",
      "sudo cp -r /teamspace/jobs/expt-timing2-31/work/*.* /teamspace/studios/this_studio/jobs/expt_timing2-31/work\n",
      "\n",
      " Creating /teamspace/studios/this_studio/jobs/expt_timing2-23/work\n",
      "sudo cp -r /teamspace/jobs/expt-timing2-23/work/*.* /teamspace/studios/this_studio/jobs/expt_timing2-23/work\n",
      "\n",
      " Creating /teamspace/studios/this_studio/jobs/expt_timing2-20/work\n",
      "sudo cp -r /teamspace/jobs/expt-timing2-20/work/*.* /teamspace/studios/this_studio/jobs/expt_timing2-20/work\n",
      "\n",
      " Creating /teamspace/studios/this_studio/jobs/expt_timing2-16/work\n",
      "sudo cp -r /teamspace/jobs/expt-timing2-16/work/*.* /teamspace/studios/this_studio/jobs/expt_timing2-16/work\n",
      "\n",
      " Creating /teamspace/studios/this_studio/jobs/expt_timing2-47/work\n",
      "sudo cp -r /teamspace/jobs/expt-timing2-47/work/*.* /teamspace/studios/this_studio/jobs/expt_timing2-47/work\n",
      "\n",
      " Creating /teamspace/studios/this_studio/jobs/expt_timing2-12/work\n",
      "sudo cp -r /teamspace/jobs/expt-timing2-12/work/*.* /teamspace/studios/this_studio/jobs/expt_timing2-12/work\n",
      "\n",
      " Creating /teamspace/studios/this_studio/jobs/expt_timing2-45/work\n",
      "sudo cp -r /teamspace/jobs/expt-timing2-45/work/*.* /teamspace/studios/this_studio/jobs/expt_timing2-45/work\n",
      "\n",
      " Creating /teamspace/studios/this_studio/jobs/expt_timing2-33/work\n",
      "sudo cp -r /teamspace/jobs/expt-timing2-33/work/*.* /teamspace/studios/this_studio/jobs/expt_timing2-33/work\n",
      "\n",
      " Creating /teamspace/studios/this_studio/jobs/expt_timing2-07/work\n",
      "sudo cp -r /teamspace/jobs/expt-timing2-07/work/*.* /teamspace/studios/this_studio/jobs/expt_timing2-07/work\n",
      "\n",
      " Creating /teamspace/studios/this_studio/jobs/expt_timing2-21/work\n",
      "sudo cp -r /teamspace/jobs/expt-timing2-21/work/*.* /teamspace/studios/this_studio/jobs/expt_timing2-21/work\n",
      "\n",
      " Creating /teamspace/studios/this_studio/jobs/expt_timing2-04/work\n",
      "sudo cp -r /teamspace/jobs/expt-timing2-04/work/*.* /teamspace/studios/this_studio/jobs/expt_timing2-04/work\n",
      "\n",
      " Creating /teamspace/studios/this_studio/jobs/expt_timing2-30/work\n",
      "sudo cp -r /teamspace/jobs/expt-timing2-30/work/*.* /teamspace/studios/this_studio/jobs/expt_timing2-30/work\n",
      "\n",
      " Creating /teamspace/studios/this_studio/jobs/expt_timing2-38/work\n",
      "sudo cp -r /teamspace/jobs/expt-timing2-38/work/*.* /teamspace/studios/this_studio/jobs/expt_timing2-38/work\n",
      "\n",
      " Creating /teamspace/studios/this_studio/jobs/expt_timing2-37/work\n",
      "sudo cp -r /teamspace/jobs/expt-timing2-37/work/*.* /teamspace/studios/this_studio/jobs/expt_timing2-37/work\n",
      "\n",
      " Creating /teamspace/studios/this_studio/jobs/expt_timing2-01/work\n",
      "sudo cp -r /teamspace/jobs/expt-timing2-01/work/*.* /teamspace/studios/this_studio/jobs/expt_timing2-01/work\n",
      "\n",
      " Creating /teamspace/studios/this_studio/jobs/expt_timing2-25/work\n",
      "sudo cp -r /teamspace/jobs/expt-timing2-25/work/*.* /teamspace/studios/this_studio/jobs/expt_timing2-25/work\n",
      "\n",
      " Creating /teamspace/studios/this_studio/jobs/expt_timing2-36/work\n",
      "sudo cp -r /teamspace/jobs/expt-timing2-36/work/*.* /teamspace/studios/this_studio/jobs/expt_timing2-36/work\n",
      "\n",
      " Creating /teamspace/studios/this_studio/jobs/expt_timing2-24/work\n",
      "sudo cp -r /teamspace/jobs/expt-timing2-24/work/*.* /teamspace/studios/this_studio/jobs/expt_timing2-24/work\n",
      "\n",
      " Creating /teamspace/studios/this_studio/jobs/expt_timing2-11/work\n",
      "sudo cp -r /teamspace/jobs/expt-timing2-11/work/*.* /teamspace/studios/this_studio/jobs/expt_timing2-11/work\n",
      "\n",
      " Creating /teamspace/studios/this_studio/jobs/expt_timing2-09/work\n",
      "sudo cp -r /teamspace/jobs/expt-timing2-09/work/*.* /teamspace/studios/this_studio/jobs/expt_timing2-09/work\n",
      "\n",
      " Creating /teamspace/studios/this_studio/jobs/expt_timing2-05/work\n",
      "sudo cp -r /teamspace/jobs/expt-timing2-05/work/*.* /teamspace/studios/this_studio/jobs/expt_timing2-05/work\n",
      "\n",
      " Creating /teamspace/studios/this_studio/jobs/expt_timing2-22/work\n",
      "sudo cp -r /teamspace/jobs/expt-timing2-22/work/*.* /teamspace/studios/this_studio/jobs/expt_timing2-22/work\n",
      "\n",
      " Creating /teamspace/studios/this_studio/jobs/expt_timing2-03/work\n",
      "sudo cp -r /teamspace/jobs/expt-timing2-03/work/*.* /teamspace/studios/this_studio/jobs/expt_timing2-03/work\n",
      "\n",
      " Creating /teamspace/studios/this_studio/jobs/expt_timing2-06/work\n",
      "sudo cp -r /teamspace/jobs/expt-timing2-06/work/*.* /teamspace/studios/this_studio/jobs/expt_timing2-06/work\n",
      "\n",
      " Creating /teamspace/studios/this_studio/jobs/expt_timing2-35/work\n",
      "sudo cp -r /teamspace/jobs/expt-timing2-35/work/*.* /teamspace/studios/this_studio/jobs/expt_timing2-35/work\n",
      "\n",
      " Creating /teamspace/studios/this_studio/jobs/expt_timing2-43/work\n",
      "sudo cp -r /teamspace/jobs/expt-timing2-43/work/*.* /teamspace/studios/this_studio/jobs/expt_timing2-43/work\n",
      "\n",
      " Creating /teamspace/studios/this_studio/jobs/expt_timing2-26/work\n",
      "sudo cp -r /teamspace/jobs/expt-timing2-26/work/*.* /teamspace/studios/this_studio/jobs/expt_timing2-26/work\n",
      "\n",
      " Creating /teamspace/studios/this_studio/jobs/expt_timing2-42/work\n",
      "sudo cp -r /teamspace/jobs/expt-timing2-42/work/*.* /teamspace/studios/this_studio/jobs/expt_timing2-42/work\n",
      "\n",
      " Creating /teamspace/studios/this_studio/jobs/expt_timing2-14/work\n",
      "sudo cp -r /teamspace/jobs/expt-timing2-14/work/*.* /teamspace/studios/this_studio/jobs/expt_timing2-14/work\n",
      "\n",
      " Creating /teamspace/studios/this_studio/jobs/expt_timing2-39/work\n",
      "sudo cp -r /teamspace/jobs/expt-timing2-39/work/*.* /teamspace/studios/this_studio/jobs/expt_timing2-39/work\n",
      "\n",
      " Creating /teamspace/studios/this_studio/jobs/expt_timing2-32/work\n",
      "sudo cp -r /teamspace/jobs/expt-timing2-32/work/*.* /teamspace/studios/this_studio/jobs/expt_timing2-32/work\n",
      "\n",
      " Creating /teamspace/studios/this_studio/jobs/expt_timing2-34/work\n",
      "sudo cp -r /teamspace/jobs/expt-timing2-34/work/*.* /teamspace/studios/this_studio/jobs/expt_timing2-34/work\n",
      "\n",
      " Creating /teamspace/studios/this_studio/jobs/expt_timing2-19/work\n",
      "sudo cp -r /teamspace/jobs/expt-timing2-19/work/*.* /teamspace/studios/this_studio/jobs/expt_timing2-19/work\n",
      "\n",
      " Creating /teamspace/studios/this_studio/jobs/expt_timing2-46/work\n",
      "sudo cp -r /teamspace/jobs/expt-timing2-46/work/*.* /teamspace/studios/this_studio/jobs/expt_timing2-46/work\n",
      "\n",
      " Creating /teamspace/studios/this_studio/jobs/expt_timing2-40/work\n",
      "sudo cp -r /teamspace/jobs/expt-timing2-40/work/*.* /teamspace/studios/this_studio/jobs/expt_timing2-40/work\n",
      "\n",
      " Creating /teamspace/studios/this_studio/jobs/expt_timing2-29/work\n",
      "sudo cp -r /teamspace/jobs/expt-timing2-29/work/*.* /teamspace/studios/this_studio/jobs/expt_timing2-29/work\n",
      "\n",
      " Creating /teamspace/studios/this_studio/jobs/expt_timing2-28/work\n",
      "sudo cp -r /teamspace/jobs/expt-timing2-28/work/*.* /teamspace/studios/this_studio/jobs/expt_timing2-28/work\n"
     ]
    }
   ],
   "source": [
    "import os\n",
    "import argparse\n",
    "import os\n",
    "import itertools\n",
    "import pandas as pd\n",
    "from pathlib import Path\n",
    "import os\n",
    "import datetime\n",
    "\n",
    "def list_subdirectories(directory):\n",
    "    return [name for name in os.listdir(directory)\n",
    "            if os.path.isdir(os.path.join(directory, name))]\n",
    "\n",
    "src = '/teamspace/jobs'\n",
    "dst = '/teamspace/studios/this_studio/jobs'\n",
    "dirs = list_subdirectories(src)\n",
    "for old_name in dirs:\n",
    "    parts = old_name.split('-')\n",
    "    num = parts[2]\n",
    "    new_name = f'expt_timing2-{num}'\n",
    "    dst_path = Path(dst, new_name, 'work')\n",
    "    print(f'\\n Creating {str(dst_path)}')\n",
    "    dst_path.mkdir(parents=True, exist_ok=True)\n",
    "\n",
    "    #cmd = f'mv {directory}/{old_name} {directory}/{new_name}'\n",
    "    cmd = f'sudo cp -r {src}/{old_name}/work/*.* {dst}/{new_name}/work'\n",
    "    print(cmd)\n",
    "    os.system(cmd)"
   ]
  },
  {
   "cell_type": "code",
   "execution_count": 4,
   "metadata": {},
   "outputs": [
    {
     "name": "stdout",
     "output_type": "stream",
     "text": [
      "Saving figure to /teamspace/studios/this_studio/jobs/expt_timing//times\n",
      "bong_fc_Lin0_EF0 [ 11 121] [1.49223372 7.88719506]\n",
      "bog_fc_Lin0_EF0 [ 11 121] [1.4067002  4.06610123]\n"
     ]
    },
    {
     "data": {
      "image/png": "[encoded data removed]",
      "text/plain": [
       "<Figure size 800x600 with 1 Axes>"
      ]
     },
     "metadata": {},
     "output_type": "display_data"
    }
   ],
   "source": [
    "parser = argparse.ArgumentParser()\n",
    "parser.add_argument(\"--dir\", type=str, default=\"/teamspace/studios/this_studio/jobs/expt_timing/\")\n",
    "args = parser.parse_args([])\n",
    "\n",
    "import plot_times\n",
    "fig, ax = plot_times.main(args)\n"
   ]
  },
  {
   "cell_type": "code",
   "execution_count": 13,
   "metadata": {},
   "outputs": [
    {
     "data": {
      "text/html": [
       "<div>\n",
       "<style scoped>\n",
       "    .dataframe tbody tr th:only-of-type {\n",
       "        vertical-align: middle;\n",
       "    }\n",
       "\n",
       "    .dataframe tbody tr th {\n",
       "        vertical-align: top;\n",
       "    }\n",
       "\n",
       "    .dataframe thead th {\n",
       "        text-align: right;\n",
       "    }\n",
       "</style>\n",
       "<table border=\"1\" class=\"dataframe\">\n",
       "  <thead>\n",
       "    <tr style=\"text-align: right;\">\n",
       "      <th></th>\n",
       "      <th>jobname</th>\n",
       "      <th>agent_name</th>\n",
       "      <th>model_name</th>\n",
       "      <th>data_name</th>\n",
       "      <th>elapsed</th>\n",
       "      <th>summary</th>\n",
       "    </tr>\n",
       "  </thead>\n",
       "  <tbody>\n",
       "    <tr>\n",
       "      <th>0</th>\n",
       "      <td>job0-00</td>\n",
       "      <td>bong_fc-MC100-I1-LR0-EF0-Lin0</td>\n",
       "      <td>mlp_1</td>\n",
       "      <td>reg-D10-mlp_20_20_1</td>\n",
       "      <td>1.406131</td>\n",
       "      <td>Test NLL: 1.4352,  NLPD: 1.4501\\nVal NLL 1.436...</td>\n",
       "    </tr>\n",
       "  </tbody>\n",
       "</table>\n",
       "</div>"
      ],
      "text/plain": [
       "   jobname                     agent_name model_name            data_name  \\\n",
       "0  job0-00  bong_fc-MC100-I1-LR0-EF0-Lin0      mlp_1  reg-D10-mlp_20_20_1   \n",
       "\n",
       "    elapsed                                            summary  \n",
       "0  1.406131  Test NLL: 1.4352,  NLPD: 1.4501\\nVal NLL 1.436...  "
      ]
     },
     "execution_count": 13,
     "metadata": {},
     "output_type": "execute_result"
    }
   ],
   "source": [
    "from process_jobs import *\n",
    "\n",
    "root_dir = '/teamspace/studios/this_studio/jobs'\n",
    "data_dir = 'reg-D10-mlp_20_20_1'\n",
    "model_dir = 'mlp_1'\n",
    "agent_dir = 'A:bong-P:fc-Lin:0-LR:0_01-IT:10-MC:100-EF:0-R:0/'\n",
    "dir = f'{root_dir}/{data_dir}/{model_dir}/{agent_dir}'\n",
    "\n",
    "\n",
    "\n",
    "    \n",
    "df = create_results_summary(dir)\n",
    "df.head()\n",
    "\n",
    "\n",
    "\n"
   ]
  },
  {
   "cell_type": "markdown",
   "metadata": {},
   "source": []
  },
  {
   "cell_type": "markdown",
   "metadata": {},
   "source": []
  }
 ],
 "metadata": {
  "kernelspec": {
   "display_name": ".bong_venv",
   "language": "python",
   "name": "python3"
  },
  "language_info": {
   "codemirror_mode": {
    "name": "ipython",
    "version": 3
   },
   "file_extension": ".py",
   "mimetype": "text/x-python",
   "name": "python",
   "nbconvert_exporter": "python",
   "pygments_lexer": "ipython3",
   "version": "3.10.10"
  }
 },
 "nbformat": 4,
 "nbformat_minor": 2
}
