{
 "cells": [
  {
   "cell_type": "code",
   "execution_count": 1,
   "metadata": {},
   "outputs": [
    {
     "name": "stderr",
     "output_type": "stream",
     "text": [
      "/tmp/ipykernel_3164/945712042.py:6: DeprecationWarning: Importing display from IPython.core.display is deprecated since IPython 7.14, please import from IPython display\n",
      "  from IPython.core.display import display, HTML\n"
     ]
    },
    {
     "data": {
      "text/html": [
       "<style>.container { width:100% !important; }</style>"
      ],
      "text/plain": [
       "<IPython.core.display.HTML object>"
      ]
     },
     "metadata": {},
     "output_type": "display_data"
    }
   ],
   "source": [
    "%load_ext autoreload\n",
    "%autoreload 2\n",
    "\n",
    "%config InlineBackend.figure_format = \"retina\"\n",
    "\n",
    "from IPython.core.display import display, HTML\n",
    "\n",
    "display(HTML(\"<style>.container { width:100% !important; }</style>\"))\n"
   ]
  },
  {
   "cell_type": "code",
   "execution_count": 1,
   "metadata": {},
   "outputs": [],
   "source": [
    "import pandas as pd\n",
    "import os\n",
    "import argparse\n",
    "from typing import Any, Callable, Sequence\n",
    "from pathlib import Path\n",
    "from PIL import Image\n",
    "import matplotlib.image as mpimg\n",
    "\n",
    "import jax\n",
    "import jax.random as jr\n",
    "import jax.numpy as jnp\n",
    "from jax import grad, jit, vmap\n",
    "from jax.flatten_util import ravel_pytree\n",
    "import numpy as np\n",
    "import matplotlib.pyplot as plt\n",
    "from flax import linen as nn\n",
    "\n",
    "\n",
    "from bong.util import run_rebayes_algorithm, gaussian_kl_div, MLP\n",
    "from bong.src import bbb, blr, bog, bong, experiment_utils\n",
    "from bong.agents import AGENT_NAMES\n",
    "from plot_utils import *\n",
    "\n"
   ]
  },
  {
   "cell_type": "code",
   "execution_count": 4,
   "metadata": {},
   "outputs": [
    {
     "name": "stdout",
     "output_type": "stream",
     "text": [
      "[0.0001 0.0005 0.001  0.005  0.01   0.05   0.1   ]\n"
     ]
    }
   ],
   "source": [
    "x=np.array([1e-4, 5e-4, 1e-3, 5*1e-3, 1e-2, 5*1e-2, 1e-1])\n",
    "print(x)"
   ]
  },
  {
   "cell_type": "code",
   "execution_count": 17,
   "metadata": {},
   "outputs": [],
   "source": [
    "parser = argparse.ArgumentParser()\n",
    "\n",
    "# Data parameters\n",
    "parser.add_argument(\"--dataset\", type=str, default=\"reg\") \n",
    "parser.add_argument(\"--data_dim\", type=int, default=10)\n",
    "parser.add_argument(\"--data_key\", type=int, default=0)\n",
    "parser.add_argument(\"--dgp_type\", type=str, default=\"lin\") # or mlp\n",
    "parser.add_argument(\"--dgp_neurons\", type=int, nargs=\"+\", default=[20, 20, 1]) \n",
    "parser.add_argument(\"--dgp_neurons_str\", type=str, default=\"\") # 20_20_1 \n",
    "parser.add_argument(\"--emission_noise\", type=float, default=1.0)\n",
    "parser.add_argument(\"--ntrain\", type=int, default=500)\n",
    "parser.add_argument(\"--nval\", type=int, default=500)\n",
    "parser.add_argument(\"--ntest\", type=int, default=1000)\n",
    "parser.add_argument(\"--add_ones\", type=bool, default=False)\n",
    "\n",
    "\n",
    "# Model parameters\n",
    "parser.add_argument(\"--agent\", type=str, default=\"bong_fc\", choices=AGENT_NAMES)\n",
    "parser.add_argument(\"--agent_key\", type=int, default=0)\n",
    "parser.add_argument(\"--lr\", type=float, default=0.01)\n",
    "parser.add_argument(\"--niter\", type=int, default=10) \n",
    "parser.add_argument(\"--nsample\", type=int, default=10) \n",
    "parser.add_argument(\"--ef\", type=int, default=0)\n",
    "parser.add_argument(\"--linplugin\", type=int, default=0)\n",
    "parser.add_argument(\"--rank\", type=int, default=10)\n",
    "parser.add_argument(\"--model_type\", type=str, default=\"lin\") # or mlp\n",
    "parser.add_argument(\"--model_neurons\", type=int, nargs=\"+\", default=[1])\n",
    "parser.add_argument(\"--model_neurons_str\", type=str, default=\"\") \n",
    "parser.add_argument(\"--init_var\", type=float, default=1.0)\n",
    "parser.add_argument(\"--algo_key\", type=int, default=0)\n",
    "\n",
    "# results\n",
    "parser.add_argument(\"--dir\", type=str, default=\"\", help=\"directory to store results\") \n",
    "parser.add_argument(\"--debug\", type=bool, default=False)\n",
    "\n",
    "\n",
    "args = parser.parse_args([])"
   ]
  },
  {
   "cell_type": "code",
   "execution_count": 18,
   "metadata": {},
   "outputs": [
    {
     "name": "stdout",
     "output_type": "stream",
     "text": [
      "(500, 10)\n",
      "Running bong_fc-MC10-I1-LR0-EF1-Lin0 + mlp_10_1 on reg-D10-lin_1\n",
      "Using GPU of type:  None\n",
      "Time 15.75s\n",
      "Test NLL: 1.5503,  NLPD: 1.5489\n",
      "Val NLL 1.5632,  NLPD: 1.5948\n"
     ]
    }
   ],
   "source": [
    "from datasets import *\n",
    "from models import *\n",
    "from bong.agents import *\n",
    "from run_job import *\n",
    "\n",
    "data = make_dataset(args)\n",
    "print(data['X_tr'].shape)\n",
    "\n",
    "model = make_model(args, data)\n",
    "\n",
    "constructor = AGENT_DICT[args.agent]['constructor']\n",
    "agent = constructor(\n",
    "                    **model['model_kwargs'],\n",
    "                    agent_key = args.agent_key,\n",
    "                    learning_rate = args.lr,\n",
    "                    num_iter = args.niter,\n",
    "                    num_samples = args.nsample,\n",
    "                    linplugin = args.linplugin,\n",
    "                    empirical_fisher = args.ef,\n",
    "                    rank = args.rank\n",
    "                )\n",
    "key = jr.PRNGKey(args.agent_key)\n",
    "results, elapsed = run_agent(key, agent, data, model)\n",
    "df = pd.DataFrame(results)\n",
    "attributes = parse_agent_full_name(agent.name)\n",
    "meta = { # non time-series data\n",
    "    'data_name': data['name'],\n",
    "    'model_name': model['name'],\n",
    "    'agent_name': agent.name,\n",
    "    'algo': attributes['algo'],\n",
    "    'param': attributes['param'],\n",
    "    'elapsed': elapsed\n",
    "    }\n"
   ]
  },
  {
   "cell_type": "code",
   "execution_count": 4,
   "metadata": {},
   "outputs": [
    {
     "name": "stdout",
     "output_type": "stream",
     "text": [
      "dict_keys(['dataset', 'data_dim', 'data_key', 'dgp_type', 'dgp_neurons', 'dgp_neurons_str', 'emission_noise', 'ntrain', 'nval', 'ntest', 'add_ones', 'agent', 'agent_key', 'lr', 'niter', 'nsample', 'ef', 'linplugin', 'rank', 'model_type', 'model_neurons', 'model_neurons_str', 'use_bias', 'init_var', 'algo_key', 'dir', 'debug', 'data_name', 'model_name', 'agent_name', 'algo', 'param', 'elapsed', 'summary'])\n"
     ]
    }
   ],
   "source": [
    "print(args.keys())"
   ]
  },
  {
   "cell_type": "code",
   "execution_count": 13,
   "metadata": {},
   "outputs": [
    {
     "data": {
      "text/html": [
       "<div>\n",
       "<style scoped>\n",
       "    .dataframe tbody tr th:only-of-type {\n",
       "        vertical-align: middle;\n",
       "    }\n",
       "\n",
       "    .dataframe tbody tr th {\n",
       "        vertical-align: top;\n",
       "    }\n",
       "\n",
       "    .dataframe thead th {\n",
       "        text-align: right;\n",
       "    }\n",
       "</style>\n",
       "<table border=\"1\" class=\"dataframe\">\n",
       "  <thead>\n",
       "    <tr style=\"text-align: right;\">\n",
       "      <th></th>\n",
       "      <th>jobname</th>\n",
       "      <th>agent_name</th>\n",
       "      <th>model_name</th>\n",
       "      <th>data_name</th>\n",
       "      <th>elapsed</th>\n",
       "      <th>summary</th>\n",
       "    </tr>\n",
       "  </thead>\n",
       "  <tbody>\n",
       "    <tr>\n",
       "      <th>0</th>\n",
       "      <td>job0-00</td>\n",
       "      <td>bong_fc-MC100-I1-LR0-EF0-Lin0</td>\n",
       "      <td>mlp_1</td>\n",
       "      <td>reg-D10-mlp_20_20_1</td>\n",
       "      <td>1.406131</td>\n",
       "      <td>Test NLL: 1.4352,  NLPD: 1.4501\\nVal NLL 1.436...</td>\n",
       "    </tr>\n",
       "  </tbody>\n",
       "</table>\n",
       "</div>"
      ],
      "text/plain": [
       "   jobname                     agent_name model_name            data_name  \\\n",
       "0  job0-00  bong_fc-MC100-I1-LR0-EF0-Lin0      mlp_1  reg-D10-mlp_20_20_1   \n",
       "\n",
       "    elapsed                                            summary  \n",
       "0  1.406131  Test NLL: 1.4352,  NLPD: 1.4501\\nVal NLL 1.436...  "
      ]
     },
     "execution_count": 13,
     "metadata": {},
     "output_type": "execute_result"
    }
   ],
   "source": [
    "from process_jobs import *\n",
    "\n",
    "root_dir = '/teamspace/studios/this_studio/jobs'\n",
    "data_dir = 'reg-D10-mlp_20_20_1'\n",
    "model_dir = 'mlp_1'\n",
    "agent_dir = 'A:bong-P:fc-Lin:0-LR:0_01-IT:10-MC:100-EF:0-R:0/'\n",
    "dir = f'{root_dir}/{data_dir}/{model_dir}/{agent_dir}'\n",
    "\n",
    "def create_results_summary(dir):\n",
    "    fname = f\"{dir}/jobs.csv\"\n",
    "    df = pd.read_csv(fname)\n",
    "    jobnames = df['jobname']\n",
    "\n",
    "    # Create dict of dicts, containing meta-results for each experiment\n",
    "    meta = {}\n",
    "    for jobname in jobnames:\n",
    "        fname = f\"{dir}/{jobname}/work/args.json\"\n",
    "    with open(fname, 'r') as json_file:\n",
    "        args = json.load(json_file)\n",
    "    #meta[jobname] = args\n",
    "    keep = {'agent_name', 'model_name', 'data_name', 'elapsed', 'summary'}\n",
    "    d = {}\n",
    "    for k in keep:\n",
    "        d[k] = args[k]\n",
    "    meta[jobname] = d\n",
    "\n",
    "    # Merge dict of dicts into a dataframe\n",
    "    df = pd.DataFrame()\n",
    "    # Iterate over the outer dictionary and create a DataFrame for each nested dictionary\n",
    "    for key, value in meta.items():\n",
    "        temp_df = pd.DataFrame([value])\n",
    "        temp_df['jobname'] = key\n",
    "        df = pd.concat([df, temp_df], ignore_index=True)\n",
    "    #df = df.drop(columns=['dir'])\n",
    "    # Reorder the columns if necessary\n",
    "    df = df[['jobname', 'agent_name', 'model_name', 'data_name', 'elapsed', 'summary']]\n",
    "\n",
    "    return df\n",
    "\n",
    "    \n",
    "df = create_results_summary(dir)\n",
    "df.head()\n",
    "\n",
    "\n",
    "\n"
   ]
  },
  {
   "cell_type": "code",
   "execution_count": 12,
   "metadata": {},
   "outputs": [
    {
     "data": {
      "text/html": [
       "<div>\n",
       "<style scoped>\n",
       "    .dataframe tbody tr th:only-of-type {\n",
       "        vertical-align: middle;\n",
       "    }\n",
       "\n",
       "    .dataframe tbody tr th {\n",
       "        vertical-align: top;\n",
       "    }\n",
       "\n",
       "    .dataframe thead th {\n",
       "        text-align: right;\n",
       "    }\n",
       "</style>\n",
       "<table border=\"1\" class=\"dataframe\">\n",
       "  <thead>\n",
       "    <tr style=\"text-align: right;\">\n",
       "      <th></th>\n",
       "      <th>jobname</th>\n",
       "      <th>agent_name</th>\n",
       "      <th>model_name</th>\n",
       "      <th>data_name</th>\n",
       "      <th>elapsed</th>\n",
       "      <th>summary</th>\n",
       "    </tr>\n",
       "  </thead>\n",
       "  <tbody>\n",
       "    <tr>\n",
       "      <th>0</th>\n",
       "      <td>job0-00</td>\n",
       "      <td>bong_fc-MC100-I1-LR0-EF0-Lin0</td>\n",
       "      <td>mlp_1</td>\n",
       "      <td>reg-D10-mlp_20_20_1</td>\n",
       "      <td>1.406131</td>\n",
       "      <td>Test NLL: 1.4352,  NLPD: 1.4501\\nVal NLL 1.436...</td>\n",
       "    </tr>\n",
       "  </tbody>\n",
       "</table>\n",
       "</div>"
      ],
      "text/plain": [
       "   jobname                     agent_name model_name            data_name  \\\n",
       "0  job0-00  bong_fc-MC100-I1-LR0-EF0-Lin0      mlp_1  reg-D10-mlp_20_20_1   \n",
       "\n",
       "    elapsed                                            summary  \n",
       "0  1.406131  Test NLL: 1.4352,  NLPD: 1.4501\\nVal NLL 1.436...  "
      ]
     },
     "execution_count": 12,
     "metadata": {},
     "output_type": "execute_result"
    }
   ],
   "source": [
    "# Merge dict of dicts into a dataframe\n",
    "df = pd.DataFrame()\n",
    "# Iterate over the outer dictionary and create a DataFrame for each nested dictionary\n",
    "for key, value in meta.items():\n",
    "    temp_df = pd.DataFrame([value])\n",
    "    temp_df['jobname'] = key\n",
    "    df = pd.concat([df, temp_df], ignore_index=True)\n",
    "#df = df.drop(columns=['dir'])\n",
    "# Reorder the columns if necessary\n",
    "df = df[['jobname', 'agent_name', 'model_name', 'data_name', 'elapsed', 'summary']]\n",
    "\n",
    "df.head()"
   ]
  },
  {
   "cell_type": "markdown",
   "metadata": {},
   "source": []
  },
  {
   "cell_type": "markdown",
   "metadata": {},
   "source": []
  }
 ],
 "metadata": {
  "kernelspec": {
   "display_name": ".bong_venv",
   "language": "python",
   "name": "python3"
  },
  "language_info": {
   "codemirror_mode": {
    "name": "ipython",
    "version": 3
   },
   "file_extension": ".py",
   "mimetype": "text/x-python",
   "name": "python",
   "nbconvert_exporter": "python",
   "pygments_lexer": "ipython3",
   "version": "3.10.10"
  }
 },
 "nbformat": 4,
 "nbformat_minor": 2
}
