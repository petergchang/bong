{
 "cells": [
  {
   "cell_type": "code",
   "execution_count": 1,
   "metadata": {},
   "outputs": [
    {
     "name": "stderr",
     "output_type": "stream",
     "text": [
      "/tmp/ipykernel_3164/945712042.py:6: DeprecationWarning: Importing display from IPython.core.display is deprecated since IPython 7.14, please import from IPython display\n",
      "  from IPython.core.display import display, HTML\n"
     ]
    },
    {
     "data": {
      "text/html": [
       "<style>.container { width:100% !important; }</style>"
      ],
      "text/plain": [
       "<IPython.core.display.HTML object>"
      ]
     },
     "metadata": {},
     "output_type": "display_data"
    }
   ],
   "source": [
    "%load_ext autoreload\n",
    "%autoreload 2\n",
    "\n",
    "%config InlineBackend.figure_format = \"retina\"\n",
    "\n",
    "from IPython.core.display import display, HTML\n",
    "\n",
    "display(HTML(\"<style>.container { width:100% !important; }</style>\"))\n"
   ]
  },
  {
   "cell_type": "code",
   "execution_count": 4,
   "metadata": {},
   "outputs": [],
   "source": [
    "import pandas as pd\n",
    "import os\n",
    "import argparse\n",
    "from typing import Any, Callable, Sequence\n",
    "from pathlib import Path\n",
    "from PIL import Image\n",
    "import matplotlib.image as mpimg\n",
    "\n",
    "import jax\n",
    "import jax.random as jr\n",
    "import jax.numpy as jnp\n",
    "from jax import grad, jit, vmap\n",
    "from jax.flatten_util import ravel_pytree\n",
    "import numpy as np\n",
    "import matplotlib.pyplot as plt\n",
    "from flax import linen as nn\n",
    "\n",
    "\n",
    "from bong.util import run_rebayes_algorithm, gaussian_kl_div, MLP\n",
    "from bong.src import bbb, blr, bog, bong, experiment_utils\n",
    "from bong.agents import AGENT_NAMES\n",
    "from plot_utils import *\n",
    "\n"
   ]
  },
  {
   "cell_type": "code",
   "execution_count": 20,
   "metadata": {},
   "outputs": [],
   "source": [
    "from plot_utils import *\n",
    "\n",
    "root_dir = '/teamspace/studios/this_studio/jobs'\n",
    "data_dir = 'reg-D10-mlp_20_20_1'\n",
    "model_dir = 'mlp_10_10_1'\n",
    "agent_dir = 'A:Any-P:Any-Lin:1-LR:Any-IT:10-MC:10-EF:1-R:10'\n",
    "dir = f'{root_dir}/{data_dir}/{model_dir}/{agent_dir}'\n",
    "\n",
    "\n",
    "\n"
   ]
  },
  {
   "cell_type": "code",
   "execution_count": 25,
   "metadata": {},
   "outputs": [
    {
     "name": "stdout",
     "output_type": "stream",
     "text": [
      "['nll', 'nlpd']\n"
     ]
    }
   ],
   "source": [
    "\n",
    "def extract_metrics_from_files(dir, exclude_val=True):\n",
    "    fname = f\"{dir}/jobs.csv\"\n",
    "    df = pd.read_csv(fname)\n",
    "    jobnames = df['jobname']\n",
    "    jobname = jobnames[0]\n",
    "    fname = f\"{dir}/{jobname}/work/results.csv\"\n",
    "    df_res = pd.read_csv(fname)\n",
    "    metrics =  df_res.columns\n",
    "    if exclude_val:\n",
    "        metrics = [m for m in metrics if \"_val\" not in m ]\n",
    "    return metrics\n",
    "\n",
    "metrics = extract_metrics_from_files(dir)\n",
    "print(metrics)"
   ]
  },
  {
   "cell_type": "code",
   "execution_count": 26,
   "metadata": {},
   "outputs": [
    {
     "name": "stdout",
     "output_type": "stream",
     "text": [
      "2024-05-14:20-23-56\n"
     ]
    }
   ],
   "source": [
    "import datetime\n",
    "import pytz\n",
    "\n",
    "# Get the current time in UTC\n",
    "now_utc = datetime.datetime.now(pytz.utc)\n",
    "\n",
    "# Convert the current time to PST\n",
    "pst_timezone = pytz.timezone('US/Pacific')\n",
    "now_pst = now_utc.astimezone(pst_timezone)\n",
    "\n",
    "# Format the datetime string in PST\n",
    "datetime_string = now_pst.strftime(\"%Y-%m-%d:%H-%M-%S\")\n",
    "\n",
    "print(datetime_string)\n"
   ]
  },
  {
   "cell_type": "markdown",
   "metadata": {},
   "source": []
  },
  {
   "cell_type": "markdown",
   "metadata": {},
   "source": []
  },
  {
   "cell_type": "markdown",
   "metadata": {},
   "source": []
  }
 ],
 "metadata": {
  "kernelspec": {
   "display_name": ".bong_venv",
   "language": "python",
   "name": "python3"
  },
  "language_info": {
   "codemirror_mode": {
    "name": "ipython",
    "version": 3
   },
   "file_extension": ".py",
   "mimetype": "text/x-python",
   "name": "python",
   "nbconvert_exporter": "python",
   "pygments_lexer": "ipython3",
   "version": "3.10.10"
  }
 },
 "nbformat": 4,
 "nbformat_minor": 2
}
