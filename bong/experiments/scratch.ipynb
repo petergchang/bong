{
 "cells": [
  {
   "cell_type": "code",
   "execution_count": 1,
   "metadata": {},
   "outputs": [],
   "source": [
    "%load_ext autoreload\n",
    "%autoreload 2\n",
    "\n",
    "%config InlineBackend.figure_format = \"retina\""
   ]
  },
  {
   "cell_type": "code",
   "execution_count": 2,
   "metadata": {},
   "outputs": [
    {
     "name": "stdout",
     "output_type": "stream",
     "text": [
      "['fg-bong', 'fg-l-bong', 'fg-rep-bong', 'fg-rep-l-bong', 'fg-blr', 'fg-bog', 'fg-rep-bog', 'fg-bbb', 'fg-rep-bbb']\n"
     ]
    }
   ],
   "source": [
    "from kpm_linreg import *\n",
    "from bong.src import bbb, blr, bog, bong, experiment_utils\n",
    "from bong.util import run_rebayes_algorithm, tune_init_hyperparam\n",
    "\n",
    "print(AGENT_TYPES)\n"
   ]
  },
  {
   "cell_type": "code",
   "execution_count": 3,
   "metadata": {},
   "outputs": [],
   "source": [
    "#python experiments/s01_linreg.py --agents fg-bong fg-l-bong --num_samples 10 100\n",
    "\n",
    "parser = argparse.ArgumentParser()\n",
    "    \n",
    "  # Data parameters\n",
    "parser.add_argument(\"--num_examples\", type=int, default=500)\n",
    "parser.add_argument(\"--param_dim\", type=int, default=10)\n",
    "parser.add_argument(\"--key\", type=int, default=0)\n",
    "parser.add_argument(\"--emission_noise\", type=float, default=1.0)\n",
    "\n",
    "# Model parameters\n",
    "parser.add_argument(\"--agents\", type=str, nargs=\"+\",\n",
    "                    default=[\"fg-bong\", \"fg-blr\", \"fg-bog\", \"fg-bbb\"], choices=AGENT_TYPES)\n",
    "parser.add_argument(\"--num_samples\", type=int, nargs=\"+\", \n",
    "                    default=[100])\n",
    "parser.add_argument(\"--learning_rate\", type=int, nargs=\"+\", \n",
    "                    default=[0.005, 0.01, 0.05])\n",
    "parser.add_argument(\"--tune_learning_rate\", type=bool, default=False)\n",
    "\n",
    "#https://stackoverflow.com/questions/30656777/how-to-call-module-written-with-argparse-in-ipython-notebook\n",
    "#args = parser.parse_args()\n",
    "args = parser.parse_args(args=[])\n",
    "print(args)\n",
    "\n",
    "#main(args)\n"
   ]
  },
  {
   "cell_type": "code",
   "execution_count": 8,
   "metadata": {},
   "outputs": [
    {
     "ename": "TypeError",
     "evalue": "fg_bog.__new__() got an unexpected keyword argument 'num_iter'",
     "output_type": "error",
     "traceback": [
      "\u001b[0;31m---------------------------------------------------------------------------\u001b[0m",
      "\u001b[0;31mTypeError\u001b[0m                                 Traceback (most recent call last)",
      "Cell \u001b[0;32mIn[8], line 6\u001b[0m\n\u001b[1;32m      2\u001b[0m init_kwargs, callback \u001b[38;5;241m=\u001b[39m init(args, data)\n\u001b[1;32m      3\u001b[0m prior, post \u001b[38;5;241m=\u001b[39m compute_prior_post(args, data)\n\u001b[0;32m----> 6\u001b[0m agent \u001b[38;5;241m=\u001b[39m bog\u001b[38;5;241m.\u001b[39mfg_bog(\u001b[38;5;241m*\u001b[39m\u001b[38;5;241m*\u001b[39minit_kwargs,\n\u001b[1;32m      7\u001b[0m                 learning_rate\u001b[38;5;241m=\u001b[39m\u001b[38;5;241m0.1\u001b[39m,\n\u001b[1;32m      8\u001b[0m                 num_samples\u001b[38;5;241m=\u001b[39m\u001b[38;5;241m100\u001b[39m,\n\u001b[1;32m      9\u001b[0m                 num_iter \u001b[38;5;241m=\u001b[39m \u001b[38;5;241m100\u001b[39m,\n\u001b[1;32m     10\u001b[0m )\n\u001b[1;32m     11\u001b[0m \u001b[38;5;28mprint\u001b[39m(agent)\n",
      "\u001b[0;31mTypeError\u001b[0m: fg_bog.__new__() got an unexpected keyword argument 'num_iter'"
     ]
    }
   ],
   "source": [
    "data, subkey = make_data(args)\n",
    "init_kwargs, callback = init(args, data)\n",
    "prior, post = compute_prior_post(args, data)\n",
    " \n",
    "\n",
    "agent = bog.fg_bog(**init_kwargs,\n",
    "                learning_rate=0.1,\n",
    "                num_samples=100,\n",
    "                num_iter = 100,\n",
    ")\n",
    "print(agent)\n"
   ]
  },
  {
   "cell_type": "code",
   "execution_count": null,
   "metadata": {},
   "outputs": [],
   "source": []
  }
 ],
 "metadata": {
  "kernelspec": {
   "display_name": ".bong_venv",
   "language": "python",
   "name": "python3"
  },
  "language_info": {
   "codemirror_mode": {
    "name": "ipython",
    "version": 3
   },
   "file_extension": ".py",
   "mimetype": "text/x-python",
   "name": "python",
   "nbconvert_exporter": "python",
   "pygments_lexer": "ipython3",
   "version": "3.11.7"
  }
 },
 "nbformat": 4,
 "nbformat_minor": 2
}
